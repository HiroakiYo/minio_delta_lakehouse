{
 "cells": [
  {
   "cell_type": "code",
   "execution_count": 1,
   "id": "a0f32d74-3799-40a1-a6a8-a2432127afea",
   "metadata": {},
   "outputs": [
    {
     "name": "stdout",
     "output_type": "stream",
     "text": [
      "Requirement already satisfied: delta-spark in /opt/conda/lib/python3.11/site-packages (2.4.0)\n",
      "Requirement already satisfied: pyspark<3.5.0,>=3.4.0 in /usr/local/spark/python (from delta-spark) (3.4.1)\n",
      "Requirement already satisfied: importlib-metadata>=1.0.0 in /opt/conda/lib/python3.11/site-packages (from delta-spark) (6.8.0)\n",
      "Requirement already satisfied: zipp>=0.5 in /opt/conda/lib/python3.11/site-packages (from importlib-metadata>=1.0.0->delta-spark) (3.16.2)\n",
      "Requirement already satisfied: py4j==0.10.9.7 in /opt/conda/lib/python3.11/site-packages (from pyspark<3.5.0,>=3.4.0->delta-spark) (0.10.9.7)\n"
     ]
    }
   ],
   "source": [
    "!pip install delta-spark\n",
    "import pyspark\n",
    "from delta import *\n",
    "\n",
    "builder = pyspark.sql.SparkSession.builder.appName(\"MyApp\") \\\n",
    "    .config(\"spark.jars.packages\", \"io.delta:delta-core_2.12:2.4.0\") \\\n",
    "    .config(\"spark.jars.packages\",\"org.apache.hadoop:hadoop-aws:3.3.4\") \\\n",
    "    .config(\"spark.hadoop.fs.s3a.access.key\",\"minio_access_key\") \\\n",
    "    .config(\"spark.hadoop.fs.s3a.secret.key\", \"minio_secret_key\") \\\n",
    "    .config(\"spark.hadoop.fs.s3a.endpoint\", \"http://172.24.0.10:9000\") \\\n",
    "    .config(\"spark.databricks.delta.retentionDurationCheck.enabled\",\"false\") \\\n",
    "    .config(\"spark.sql.extensions\", \"io.delta.sql.DeltaSparkSessionExtension\") \\\n",
    "    .config(\"spark.sql.catalog.spark_catalog\", \"org.apache.spark.sql.delta.catalog.DeltaCatalog\")\n",
    "spark = configure_spark_with_delta_pip(builder).getOrCreate()"
   ]
  },
  {
   "cell_type": "code",
   "execution_count": 2,
   "id": "aa3a3ecd-791c-4988-b068-1d247dcfac4d",
   "metadata": {},
   "outputs": [
    {
     "data": {
      "text/html": [
       "<style>pre { white-space: pre !important; }</style>"
      ],
      "text/plain": [
       "<IPython.core.display.HTML object>"
      ]
     },
     "metadata": {},
     "output_type": "display_data"
    }
   ],
   "source": [
    "from IPython.display import display, HTML\n",
    "display(HTML(\"<style>pre { white-space: pre !important; }</style>\"))"
   ]
  },
  {
   "cell_type": "markdown",
   "id": "ea29e605-eda3-41d8-8f71-0ecdc2a4ea31",
   "metadata": {},
   "source": [
    "# Image saving and versioning demonstration\n",
    "\n",
    "In the code below, we downloaded a flower dataset from the tensorflow and store it with delta lake. We also captured the metadata from the filename of each picture, and stored them as attributes of the corresponding picture. By doing so, we can query the picture that meets certain requirements (ie flower of a certain type)"
   ]
  },
  {
   "cell_type": "code",
   "execution_count": 3,
   "id": "f6feb760-e8ec-4fb1-ac85-74419dc972d5",
   "metadata": {},
   "outputs": [],
   "source": [
    "import shutil\n",
    "from urllib import request\n",
    "import os\n",
    "# Flowers dataset from the TensorFlow team - https://www.tensorflow.org/datasets/catalog/tf_flowers\n",
    "imageGzipUrl = \"https://storage.googleapis.com/download.tensorflow.org/example_images/flower_photos.tgz\"\n",
    "imageGzipPath = \"/tmp/flower_photos.tgz\"\n",
    "imagePath = \"/tmp/image-folder\"\n",
    "deltaPath = \"s3a://delta-lake/iris\"\n",
    "\n",
    "# Clear previous run's zipper file, image folder and delta tables\n",
    "if os.path.exists(imageGzipPath):\n",
    "  os.remove(imageGzipPath)\n",
    "shutil.rmtree(imagePath, ignore_errors=True)\n",
    "\n",
    "request.urlretrieve(imageGzipUrl, imageGzipPath)\n",
    "shutil.unpack_archive(imageGzipPath, imagePath)"
   ]
  },
  {
   "cell_type": "code",
   "execution_count": 4,
   "id": "2b6250df-9b6d-4e5d-9c28-cc65d385942b",
   "metadata": {},
   "outputs": [
    {
     "name": "stdout",
     "output_type": "stream",
     "text": [
      "+--------------------+-------------------+------+--------------------+\n",
      "|                path|   modificationTime|length|             content|\n",
      "+--------------------+-------------------+------+--------------------+\n",
      "|file:/tmp/image-f...|2016-01-11 06:54:55|281953|[FF D8 FF E0 00 1...|\n",
      "|file:/tmp/image-f...|2016-01-11 06:18:33|277326|[FF D8 FF E0 00 1...|\n",
      "|file:/tmp/image-f...|2016-01-11 06:55:53|265806|[FF D8 FF E0 00 1...|\n",
      "|file:/tmp/image-f...|2016-01-11 06:19:25|257418|[FF D8 FF E0 00 1...|\n",
      "|file:/tmp/image-f...|2016-01-11 06:06:37|248540|[FF D8 FF E0 00 1...|\n",
      "|file:/tmp/image-f...|2016-01-11 06:56:37|246285|[FF D8 FF E0 00 1...|\n",
      "|file:/tmp/image-f...|2016-01-11 06:55:52|244431|[FF D8 FF E0 00 1...|\n",
      "|file:/tmp/image-f...|2016-01-11 06:17:37|243637|[FF D8 FF E0 00 1...|\n",
      "|file:/tmp/image-f...|2016-01-11 06:19:11|242637|[FF D8 FF E0 00 1...|\n",
      "|file:/tmp/image-f...|2016-01-11 06:03:56|240957|[FF D8 FF E0 00 1...|\n",
      "|file:/tmp/image-f...|2016-01-11 06:57:13|239435|[FF D8 FF E0 00 1...|\n",
      "|file:/tmp/image-f...|2016-01-11 06:16:55|238377|[FF D8 FF E0 00 1...|\n",
      "|file:/tmp/image-f...|2016-01-11 06:57:41|237053|[FF D8 FF E1 00 3...|\n",
      "|file:/tmp/image-f...|2016-01-11 06:57:50|236253|[FF D8 FF E0 00 1...|\n",
      "|file:/tmp/image-f...|2016-01-11 06:19:49|235856|[FF D8 FF E0 00 1...|\n",
      "|file:/tmp/image-f...|2016-01-11 06:55:01|235266|[FF D8 FF E0 00 1...|\n",
      "|file:/tmp/image-f...|2016-01-11 06:15:02|235187|[FF D8 FF E0 00 1...|\n",
      "|file:/tmp/image-f...|2016-01-11 06:16:17|234646|[FF D8 FF E0 00 1...|\n",
      "|file:/tmp/image-f...|2016-01-11 06:19:33|234569|[FF D8 FF E0 00 1...|\n",
      "|file:/tmp/image-f...|2016-01-11 06:10:31|234384|[FF D8 FF E0 00 1...|\n",
      "+--------------------+-------------------+------+--------------------+\n",
      "only showing top 20 rows\n",
      "\n"
     ]
    }
   ],
   "source": [
    "# read the images from the flowers dataset\n",
    "images = spark.read.format(\"binaryFile\").\\\n",
    "  option(\"recursiveFileLookup\", \"true\").\\\n",
    "  option(\"pathGlobFilter\", \"*.jpg\").\\\n",
    "  load(imagePath)\n",
    "\n",
    "images.show()"
   ]
  },
  {
   "cell_type": "markdown",
   "id": "38e45a30-dfc5-491b-8a53-1d32e150956e",
   "metadata": {},
   "source": [
    "### Capture picture attributes"
   ]
  },
  {
   "cell_type": "code",
   "execution_count": 5,
   "id": "76aa278c-2f4f-4f2c-9a1b-27e5206c67b8",
   "metadata": {},
   "outputs": [
    {
     "name": "stdout",
     "output_type": "stream",
     "text": [
      "+--------------------+-------------------+------+--------------------+----------+--------------------+\n",
      "|                path|   modificationTime|length|             content|flowerType|            filename|\n",
      "+--------------------+-------------------+------+--------------------+----------+--------------------+\n",
      "|file:/tmp/image-f...|2016-01-11 06:54:55|281953|[FF D8 FF E0 00 1...|    tulips|2431737309_146852...|\n",
      "|file:/tmp/image-f...|2016-01-11 06:18:33|277326|[FF D8 FF E0 00 1...|sunflowers|4932735362_6e1017...|\n",
      "|file:/tmp/image-f...|2016-01-11 06:55:53|265806|[FF D8 FF E0 00 1...|    tulips|8717900362_2aa508...|\n",
      "|file:/tmp/image-f...|2016-01-11 06:19:25|257418|[FF D8 FF E0 00 1...|sunflowers|4341530649_c17bbc...|\n",
      "|file:/tmp/image-f...|2016-01-11 06:06:37|248540|[FF D8 FF E0 00 1...|     daisy|5693459303_e61d9a...|\n",
      "|file:/tmp/image-f...|2016-01-11 06:56:37|246285|[FF D8 FF E0 00 1...|    tulips|5674170543_73e3f4...|\n",
      "|file:/tmp/image-f...|2016-01-11 06:55:52|244431|[FF D8 FF E0 00 1...|    tulips|10164073235_f2993...|\n",
      "|file:/tmp/image-f...|2016-01-11 06:17:37|243637|[FF D8 FF E0 00 1...|sunflowers|6140892289_92805c...|\n",
      "|file:/tmp/image-f...|2016-01-11 06:19:11|242637|[FF D8 FF E0 00 1...|sunflowers|244074259_47ce6d3...|\n",
      "|file:/tmp/image-f...|2016-01-11 06:03:56|240957|[FF D8 FF E0 00 1...|     daisy|3704306975_75b744...|\n",
      "|file:/tmp/image-f...|2016-01-11 06:57:13|239435|[FF D8 FF E0 00 1...|    tulips|4546316433_202cc6...|\n",
      "|file:/tmp/image-f...|2016-01-11 06:16:55|238377|[FF D8 FF E0 00 1...|sunflowers|6140693467_211a13...|\n",
      "|file:/tmp/image-f...|2016-01-11 06:57:41|237053|[FF D8 FF E1 00 3...|    tulips|13472141763_f2517...|\n",
      "|file:/tmp/image-f...|2016-01-11 06:57:50|236253|[FF D8 FF E0 00 1...|    tulips|10995953955_08957...|\n",
      "|file:/tmp/image-f...|2016-01-11 06:19:49|235856|[FF D8 FF E0 00 1...|sunflowers|8543642705_b841b0...|\n",
      "|file:/tmp/image-f...|2016-01-11 06:55:01|235266|[FF D8 FF E0 00 1...|    tulips|3011223301_09b4e3...|\n",
      "|file:/tmp/image-f...|2016-01-11 06:15:02|235187|[FF D8 FF E0 00 1...|     roses|5799616059_0ffda0...|\n",
      "|file:/tmp/image-f...|2016-01-11 06:16:17|234646|[FF D8 FF E0 00 1...|sunflowers|9588522189_db6166...|\n",
      "|file:/tmp/image-f...|2016-01-11 06:19:33|234569|[FF D8 FF E0 00 1...|sunflowers|5492906452_80943b...|\n",
      "|file:/tmp/image-f...|2016-01-11 06:10:31|234384|[FF D8 FF E0 00 1...| dandelion|1080179756_5f0535...|\n",
      "+--------------------+-------------------+------+--------------------+----------+--------------------+\n",
      "only showing top 20 rows\n",
      "\n"
     ]
    }
   ],
   "source": [
    "import pyspark.sql.functions as fn\n",
    "# Knowing the file path, extract the flower type and filename using substring_index\n",
    "# Remember, Spark dataframes are immutable, here we are just reusing the images dataframe\n",
    "images = images.withColumn(\"flowerType_filename\", fn.substring_index(images.path, \"/\", -2))\n",
    "images = images.withColumn(\"flowerType\", fn.substring_index(images.flowerType_filename, \"/\", 1))\n",
    "images = images.withColumn(\"filename\", fn.substring_index(images.flowerType_filename, \"/\", -1))\n",
    "images = images.drop(\"flowerType_filename\")\n",
    "images.show()"
   ]
  },
  {
   "cell_type": "code",
   "execution_count": 6,
   "id": "817b12ee-7974-447c-b772-63b629f881f2",
   "metadata": {},
   "outputs": [],
   "source": [
    "# Write out the delta table to the given path, this will overwrite any table that is currently there\n",
    "images.write.format(\"delta\").mode(\"overwrite\").save(deltaPath)"
   ]
  },
  {
   "cell_type": "code",
   "execution_count": null,
   "id": "d1c0d070-7c4c-4427-b821-559d32a8345d",
   "metadata": {
    "scrolled": true
   },
   "outputs": [],
   "source": [
    "# Reads the delta table that was just written\n",
    "dfDelta = spark.read.format(\"delta\").load(deltaPath)\n",
    "dfDelta.show()"
   ]
  },
  {
   "cell_type": "markdown",
   "id": "ebff1fc6-6f55-49be-aca0-d50fd2526f1f",
   "metadata": {},
   "source": [
    "### Select only sunflower pictures"
   ]
  },
  {
   "cell_type": "code",
   "execution_count": null,
   "id": "f9f48cde-117a-42f7-9738-634df2b2650a",
   "metadata": {},
   "outputs": [],
   "source": [
    "dfDelta.filter(dfDelta.flowerType == \"dandelion\").show()"
   ]
  },
  {
   "cell_type": "code",
   "execution_count": null,
   "id": "65de15c9-368c-4f40-9a49-050cd23b3ead",
   "metadata": {},
   "outputs": [],
   "source": [
    "# Remove saved images\n",
    "deltaTable = DeltaTable.forPath(spark, deltaPath)\n",
    "deltaTable.delete()\n",
    "\n",
    "dfDelta = spark.read.format(\"delta\").load(deltaPath)\n",
    "dfDelta.show()"
   ]
  },
  {
   "cell_type": "markdown",
   "id": "1487e93b-9b1f-4ca7-a3fb-e121d23ae6b7",
   "metadata": {},
   "source": [
    "# Sequential read and history versioning\n",
    "\n",
    "To showcase the versioning function, we append the flower images one at a time to a new delta table. And, by iterating through the versions, we can see images are being added one at a time. We can also see that the history of delta table recorded 15 append operations after running the code below."
   ]
  },
  {
   "cell_type": "code",
   "execution_count": null,
   "id": "969c78a9-b238-41dc-af47-d18ac965d5a2",
   "metadata": {},
   "outputs": [],
   "source": [
    "from pathlib import Path\n",
    "\n",
    "deltaPath = \"s3a://delta-lake/iris2\"\n",
    "files = os.listdir(imagePath+\"/flower_photos\")\n",
    "path = Path(imagePath)\n",
    "insert_count = 15\n",
    "\n",
    "for file_path in path.glob(\"**/*.jpg\"):\n",
    "    if insert_count == 0:\n",
    "        break\n",
    "    \n",
    "    if file_path.is_file():\n",
    "        print(\"Processing:\", str(file_path))\n",
    "        df = spark.read.format(\"binaryFile\").\\\n",
    "          option(\"pathGlobFilter\", \"*.jpg\").\\\n",
    "          load(str(file_path))\n",
    "        df.write.format(\"delta\").mode(\"append\").save(deltaPath)\n",
    "        insert_count -= 1"
   ]
  },
  {
   "cell_type": "code",
   "execution_count": null,
   "id": "04f5bd7a-c93a-43d4-a42a-431a4d790583",
   "metadata": {},
   "outputs": [],
   "source": [
    "dfDelta = spark.read.format(\"delta\").load(deltaPath)\n",
    "print(\"Delta Table: Iris2\")\n",
    "dfDelta.show()\n",
    "deltaTable = DeltaTable.forPath(spark, deltaPath)\n",
    "\n",
    "print(\"Meta data tracked by Delta Lake Automatically\")\n",
    "detailDF = deltaTable.detail()\n",
    "detailDF.show(truncate=False)"
   ]
  },
  {
   "cell_type": "code",
   "execution_count": null,
   "id": "bade4c32-92d1-4b15-b0a6-ebd4595284d5",
   "metadata": {},
   "outputs": [],
   "source": [
    "# Display each version of th edelta table\n",
    "print(\"Historical Operations on Iris2\")\n",
    "fullHistoryDF = deltaTable.history()\n",
    "fullHistoryDF.show(50,truncate=False)\n",
    "\n",
    "print(\"Retrieving the first five versions of Iris2\")\n",
    "for version in range(5):\n",
    "    print(f\"version: {version}\")\n",
    "    df = spark.read.format(\"delta\").option(\"versionAsOf\", version).load(deltaPath)\n",
    "    df.show()"
   ]
  }
 ],
 "metadata": {
  "kernelspec": {
   "display_name": "Python 3 (ipykernel)",
   "language": "python",
   "name": "python3"
  },
  "language_info": {
   "codemirror_mode": {
    "name": "ipython",
    "version": 3
   },
   "file_extension": ".py",
   "mimetype": "text/x-python",
   "name": "python",
   "nbconvert_exporter": "python",
   "pygments_lexer": "ipython3",
   "version": "3.11.4"
  }
 },
 "nbformat": 4,
 "nbformat_minor": 5
}
